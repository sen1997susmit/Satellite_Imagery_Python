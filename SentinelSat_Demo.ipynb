{
 "cells": [
  {
   "cell_type": "markdown",
   "metadata": {},
   "source": [
    "# Search and Download Sentinel 2 imagery using Sentinelsat API"
   ]
  },
  {
   "cell_type": "markdown",
   "metadata": {},
   "source": [
    "Make sure all the libraries are installed below. Use conda if possible <br>\n",
    "For Sentinelsat use <br>\n",
    "<br>pip install sentinelsat \n",
    "<br>\n",
    "<br>\n",
    "At the conda prompt or at the cmd prompt"
   ]
  },
  {
   "cell_type": "markdown",
   "metadata": {},
   "source": [
    "### Getting help\n",
    "refer to the following links\n",
    "<br>\n",
    "sentinelsat git hub - https://github.com/sentinelsat/sentinelsat\n",
    "<br>\n",
    "sentinelsat API docs - https://sentinelsat.readthedocs.io/en/stable/api.html\n",
    "<br>\n",
    "<br>\n",
    "virtually everything you will see here has been borrowed or adpated from here, I've just added a bit of folium and unzipping"
   ]
  },
  {
   "cell_type": "markdown",
   "metadata": {},
   "source": [
    "### Import libraries"
   ]
  },
  {
   "cell_type": "code",
   "execution_count": 1,
   "metadata": {},
   "outputs": [],
   "source": [
    "import numpy as np\n",
    "import geopandas as gpd\n",
    "import folium\n",
    "from sentinelsat.sentinel import SentinelAPI, read_geojson, geojson_to_wkt\n",
    "import matplotlib.pyplot as plt"
   ]
  },
  {
   "cell_type": "markdown",
   "metadata": {},
   "source": [
    "### Plot a boundary in WGS 84 EPSG code 4326 on a folium slipping map"
   ]
  },
  {
   "cell_type": "code",
   "execution_count": 2,
   "metadata": {},
   "outputs": [
    {
     "data": {
      "text/html": [
       "<div style=\"width:100%;\"><div style=\"position:relative;width:100%;height:0;padding-bottom:60%;\"><iframe src=\"data:text/html;charset=utf-8;base64,PCFET0NUWVBFIGh0bWw+CjxoZWFkPiAgICAKICAgIDxtZXRhIGh0dHAtZXF1aXY9ImNvbnRlbnQtdHlwZSIgY29udGVudD0idGV4dC9odG1sOyBjaGFyc2V0PVVURi04IiAvPgogICAgPHNjcmlwdD5MX1BSRUZFUl9DQU5WQVM9ZmFsc2U7IExfTk9fVE9VQ0g9ZmFsc2U7IExfRElTQUJMRV8zRD1mYWxzZTs8L3NjcmlwdD4KICAgIDxzY3JpcHQgc3JjPSJodHRwczovL2Nkbi5qc2RlbGl2ci5uZXQvbnBtL2xlYWZsZXRAMS40LjAvZGlzdC9sZWFmbGV0LmpzIj48L3NjcmlwdD4KICAgIDxzY3JpcHQgc3JjPSJodHRwczovL2NvZGUuanF1ZXJ5LmNvbS9qcXVlcnktMS4xMi40Lm1pbi5qcyI+PC9zY3JpcHQ+CiAgICA8c2NyaXB0IHNyYz0iaHR0cHM6Ly9tYXhjZG4uYm9vdHN0cmFwY2RuLmNvbS9ib290c3RyYXAvMy4yLjAvanMvYm9vdHN0cmFwLm1pbi5qcyI+PC9zY3JpcHQ+CiAgICA8c2NyaXB0IHNyYz0iaHR0cHM6Ly9jZG5qcy5jbG91ZGZsYXJlLmNvbS9hamF4L2xpYnMvTGVhZmxldC5hd2Vzb21lLW1hcmtlcnMvMi4wLjIvbGVhZmxldC5hd2Vzb21lLW1hcmtlcnMuanMiPjwvc2NyaXB0PgogICAgPGxpbmsgcmVsPSJzdHlsZXNoZWV0IiBocmVmPSJodHRwczovL2Nkbi5qc2RlbGl2ci5uZXQvbnBtL2xlYWZsZXRAMS40LjAvZGlzdC9sZWFmbGV0LmNzcyIvPgogICAgPGxpbmsgcmVsPSJzdHlsZXNoZWV0IiBocmVmPSJodHRwczovL21heGNkbi5ib290c3RyYXBjZG4uY29tL2Jvb3RzdHJhcC8zLjIuMC9jc3MvYm9vdHN0cmFwLm1pbi5jc3MiLz4KICAgIDxsaW5rIHJlbD0ic3R5bGVzaGVldCIgaHJlZj0iaHR0cHM6Ly9tYXhjZG4uYm9vdHN0cmFwY2RuLmNvbS9ib290c3RyYXAvMy4yLjAvY3NzL2Jvb3RzdHJhcC10aGVtZS5taW4uY3NzIi8+CiAgICA8bGluayByZWw9InN0eWxlc2hlZXQiIGhyZWY9Imh0dHBzOi8vbWF4Y2RuLmJvb3RzdHJhcGNkbi5jb20vZm9udC1hd2Vzb21lLzQuNi4zL2Nzcy9mb250LWF3ZXNvbWUubWluLmNzcyIvPgogICAgPGxpbmsgcmVsPSJzdHlsZXNoZWV0IiBocmVmPSJodHRwczovL2NkbmpzLmNsb3VkZmxhcmUuY29tL2FqYXgvbGlicy9MZWFmbGV0LmF3ZXNvbWUtbWFya2Vycy8yLjAuMi9sZWFmbGV0LmF3ZXNvbWUtbWFya2Vycy5jc3MiLz4KICAgIDxsaW5rIHJlbD0ic3R5bGVzaGVldCIgaHJlZj0iaHR0cHM6Ly9yYXdjZG4uZ2l0aGFjay5jb20vcHl0aG9uLXZpc3VhbGl6YXRpb24vZm9saXVtL21hc3Rlci9mb2xpdW0vdGVtcGxhdGVzL2xlYWZsZXQuYXdlc29tZS5yb3RhdGUuY3NzIi8+CiAgICA8c3R5bGU+aHRtbCwgYm9keSB7d2lkdGg6IDEwMCU7aGVpZ2h0OiAxMDAlO21hcmdpbjogMDtwYWRkaW5nOiAwO308L3N0eWxlPgogICAgPHN0eWxlPiNtYXAge3Bvc2l0aW9uOmFic29sdXRlO3RvcDowO2JvdHRvbTowO3JpZ2h0OjA7bGVmdDowO308L3N0eWxlPgogICAgCiAgICA8bWV0YSBuYW1lPSJ2aWV3cG9ydCIgY29udGVudD0id2lkdGg9ZGV2aWNlLXdpZHRoLAogICAgICAgIGluaXRpYWwtc2NhbGU9MS4wLCBtYXhpbXVtLXNjYWxlPTEuMCwgdXNlci1zY2FsYWJsZT1ubyIgLz4KICAgIDxzdHlsZT4jbWFwXzk2NTQyOTIzMDJjYTRiYmRhOTRmZDk5YWIzMjg2NGFhIHsKICAgICAgICBwb3NpdGlvbjogcmVsYXRpdmU7CiAgICAgICAgd2lkdGg6IDEwMC4wJTsKICAgICAgICBoZWlnaHQ6IDEwMC4wJTsKICAgICAgICBsZWZ0OiAwLjAlOwogICAgICAgIHRvcDogMC4wJTsKICAgICAgICB9CiAgICA8L3N0eWxlPgo8L2hlYWQ+Cjxib2R5PiAgICAKICAgIAogICAgPGRpdiBjbGFzcz0iZm9saXVtLW1hcCIgaWQ9Im1hcF85NjU0MjkyMzAyY2E0YmJkYTk0ZmQ5OWFiMzI4NjRhYSIgPjwvZGl2Pgo8L2JvZHk+CjxzY3JpcHQ+ICAgIAogICAgCiAgICAKICAgICAgICB2YXIgYm91bmRzID0gbnVsbDsKICAgIAoKICAgIHZhciBtYXBfOTY1NDI5MjMwMmNhNGJiZGE5NGZkOTlhYjMyODY0YWEgPSBMLm1hcCgKICAgICAgICAnbWFwXzk2NTQyOTIzMDJjYTRiYmRhOTRmZDk5YWIzMjg2NGFhJywgewogICAgICAgIGNlbnRlcjogWzUwLjYsIC0xLjNdLAogICAgICAgIHpvb206IDEwLAogICAgICAgIG1heEJvdW5kczogYm91bmRzLAogICAgICAgIGxheWVyczogW10sCiAgICAgICAgd29ybGRDb3B5SnVtcDogZmFsc2UsCiAgICAgICAgY3JzOiBMLkNSUy5FUFNHMzg1NywKICAgICAgICB6b29tQ29udHJvbDogdHJ1ZSwKICAgICAgICB9KTsKCgogICAgCiAgICB2YXIgdGlsZV9sYXllcl8zYTUwNDBlZjM1OGM0MWMxOTViZGRjYTgwZWE3YWE5MiA9IEwudGlsZUxheWVyKAogICAgICAgICdodHRwczovL3tzfS50aWxlLm9wZW5zdHJlZXRtYXAub3JnL3t6fS97eH0ve3l9LnBuZycsCiAgICAgICAgewogICAgICAgICJhdHRyaWJ1dGlvbiI6IG51bGwsCiAgICAgICAgImRldGVjdFJldGluYSI6IGZhbHNlLAogICAgICAgICJtYXhOYXRpdmVab29tIjogMTgsCiAgICAgICAgIm1heFpvb20iOiAxOCwKICAgICAgICAibWluWm9vbSI6IDAsCiAgICAgICAgIm5vV3JhcCI6IGZhbHNlLAogICAgICAgICJvcGFjaXR5IjogMSwKICAgICAgICAic3ViZG9tYWlucyI6ICJhYmMiLAogICAgICAgICJ0bXMiOiBmYWxzZQp9KS5hZGRUbyhtYXBfOTY1NDI5MjMwMmNhNGJiZGE5NGZkOTlhYjMyODY0YWEpOwogICAgCiAgICAgICAgdmFyIGdlb19qc29uX2Q0ZjA4ZmE5Yzg1YzRlMDRiZTQ3YzI3MDUwM2RiN2QwID0gTC5nZW9Kc29uKAogICAgICAgICAgICB7ImNycyI6IHsicHJvcGVydGllcyI6IHsibmFtZSI6ICJ1cm46b2djOmRlZjpjcnM6T0dDOjEuMzpDUlM4NCJ9LCAidHlwZSI6ICJuYW1lIn0sICJmZWF0dXJlcyI6IFt7Imdlb21ldHJ5IjogeyJjb29yZGluYXRlcyI6IFtbWy0xLjU5MDQ3OTE0MTI1NjEwNCwgNTAuNzczODc4NDQwMzIzMjddLCBbLTEuNTgxOTQ4NTYxODMzMzk2LCA1MC41MzcxMTg3NTY5NzY1NzVdLCBbLTEuMDAzNzY0ODQ1NDA1MzkzLCA1MC41MzUzMTE0Mzg5MzE4M10sIFstMS4wMTAzOTk3NDA1MTE5NDMsIDUwLjc3NTY3NjYwMjI1MDkyNV0sIFstMS41OTA0NzkxNDEyNTYxMDQsIDUwLjc3Mzg3ODQ0MDMyMzI3XV1dLCAidHlwZSI6ICJQb2x5Z29uIn0sICJwcm9wZXJ0aWVzIjogeyJoaWdobGlnaHQiOiB7fSwgInN0eWxlIjoge319LCAidHlwZSI6ICJGZWF0dXJlIn1dLCAibmFtZSI6ICJib3VuZHNfSU9XIiwgInR5cGUiOiAiRmVhdHVyZUNvbGxlY3Rpb24ifSwKICAgICAgICAgICAgewogICAgICAgICAgICB9CiAgICAgICAgKS5hZGRUbyhtYXBfOTY1NDI5MjMwMmNhNGJiZGE5NGZkOTlhYjMyODY0YWEgKTsKICAgICAgICBnZW9fanNvbl9kNGYwOGZhOWM4NWM0ZTA0YmU0N2MyNzA1MDNkYjdkMC5zZXRTdHlsZShmdW5jdGlvbihmZWF0dXJlKSB7cmV0dXJuIGZlYXR1cmUucHJvcGVydGllcy5zdHlsZTt9KTsKICAgICAgICAKPC9zY3JpcHQ+\" style=\"position:absolute;width:100%;height:100%;left:0;top:0;border:none !important;\" allowfullscreen webkitallowfullscreen mozallowfullscreen></iframe></div></div>"
      ],
      "text/plain": [
       "<folium.folium.Map at 0x256eecfc2b0>"
      ]
     },
     "execution_count": 2,
     "metadata": {},
     "output_type": "execute_result"
    }
   ],
   "source": [
    "m = folium.Map([50.6, -1.3], zoom_start=10)\n",
    "boundsdata = r'D:\\sentinelsat\\bounds_IOW.geojson'\n",
    "folium.GeoJson(boundsdata).add_to(m)\n",
    "m"
   ]
  },
  {
   "cell_type": "markdown",
   "metadata": {},
   "source": [
    "### Connect to the API using a username and password - if you don't have these set one up on scihub"
   ]
  },
  {
   "cell_type": "code",
   "execution_count": 3,
   "metadata": {},
   "outputs": [],
   "source": [
    "# connect to the API\n",
    "user = 'user' ## change this!\n",
    "password = 'password' ## change this!\n",
    "\n",
    "api = SentinelAPI(user, password, 'https://scihub.copernicus.eu/dhus')"
   ]
  },
  {
   "cell_type": "code",
   "execution_count": 4,
   "metadata": {},
   "outputs": [
    {
     "name": "stdout",
     "output_type": "stream",
     "text": [
      "POLYGON((-1.5905 50.7739,-1.5819 50.5371,-1.0038 50.5353,-1.0104 50.7757,-1.5905 50.7739))\n"
     ]
    }
   ],
   "source": [
    "# search by polygon\n",
    "footprint = geojson_to_wkt(read_geojson(boundsdata))\n",
    "\n",
    "print (footprint)"
   ]
  },
  {
   "cell_type": "markdown",
   "metadata": {},
   "source": [
    "### Search\n",
    "Search for images that fall with the date range 25th Feb 2019 - 27 Feb 2019, we want sentinel 2 level2A and cloud cover of 0-20%"
   ]
  },
  {
   "cell_type": "code",
   "execution_count": 5,
   "metadata": {},
   "outputs": [],
   "source": [
    "products = api.query(footprint,\n",
    "                     date = ('20190225', '20190227'),\n",
    "                     platformname = 'Sentinel-2',\n",
    "                     processinglevel = 'Level-2A',\n",
    "                     cloudcoverpercentage = (0, 20))"
   ]
  },
  {
   "cell_type": "code",
   "execution_count": 6,
   "metadata": {
    "scrolled": true
   },
   "outputs": [
    {
     "name": "stdout",
     "output_type": "stream",
     "text": [
      "4\n"
     ]
    }
   ],
   "source": [
    "print(len(products))"
   ]
  },
  {
   "cell_type": "markdown",
   "metadata": {},
   "source": [
    "Show results in a table"
   ]
  },
  {
   "cell_type": "code",
   "execution_count": 7,
   "metadata": {
    "scrolled": true
   },
   "outputs": [
    {
     "data": {
      "text/html": [
       "<div>\n",
       "<style scoped>\n",
       "    .dataframe tbody tr th:only-of-type {\n",
       "        vertical-align: middle;\n",
       "    }\n",
       "\n",
       "    .dataframe tbody tr th {\n",
       "        vertical-align: top;\n",
       "    }\n",
       "\n",
       "    .dataframe thead th {\n",
       "        text-align: right;\n",
       "    }\n",
       "</style>\n",
       "<table border=\"1\" class=\"dataframe\">\n",
       "  <thead>\n",
       "    <tr style=\"text-align: right;\">\n",
       "      <th></th>\n",
       "      <th>title</th>\n",
       "      <th>link</th>\n",
       "      <th>link_alternative</th>\n",
       "      <th>link_icon</th>\n",
       "      <th>summary</th>\n",
       "      <th>ingestiondate</th>\n",
       "      <th>beginposition</th>\n",
       "      <th>endposition</th>\n",
       "      <th>orbitnumber</th>\n",
       "      <th>relativeorbitnumber</th>\n",
       "      <th>...</th>\n",
       "      <th>platformidentifier</th>\n",
       "      <th>orbitdirection</th>\n",
       "      <th>platformserialidentifier</th>\n",
       "      <th>processingbaseline</th>\n",
       "      <th>processinglevel</th>\n",
       "      <th>producttype</th>\n",
       "      <th>platformname</th>\n",
       "      <th>size</th>\n",
       "      <th>uuid</th>\n",
       "      <th>geometry</th>\n",
       "    </tr>\n",
       "  </thead>\n",
       "  <tbody>\n",
       "    <tr>\n",
       "      <th>09a3b3c8-1223-4133-9f2d-dbb8efd9028b</th>\n",
       "      <td>S2B_MSIL2A_20190226T111049_N0211_R137_T30UWA_2...</td>\n",
       "      <td>https://scihub.copernicus.eu/dhus/odata/v1/Pro...</td>\n",
       "      <td>https://scihub.copernicus.eu/dhus/odata/v1/Pro...</td>\n",
       "      <td>https://scihub.copernicus.eu/dhus/odata/v1/Pro...</td>\n",
       "      <td>Date: 2019-02-26T11:10:49.024Z, Instrument: MS...</td>\n",
       "      <td>2019-02-27 00:34:38.050</td>\n",
       "      <td>2019-02-26 11:10:49.024</td>\n",
       "      <td>2019-02-26 11:10:49.024</td>\n",
       "      <td>10316</td>\n",
       "      <td>137</td>\n",
       "      <td>...</td>\n",
       "      <td>2017-013A</td>\n",
       "      <td>DESCENDING</td>\n",
       "      <td>Sentinel-2B</td>\n",
       "      <td>02.11</td>\n",
       "      <td>Level-2A</td>\n",
       "      <td>S2MSI2A</td>\n",
       "      <td>Sentinel-2</td>\n",
       "      <td>541.45 MB</td>\n",
       "      <td>09a3b3c8-1223-4133-9f2d-dbb8efd9028b</td>\n",
       "      <td>POLYGON ((-3.0002747 50.55229211062575, -1.450...</td>\n",
       "    </tr>\n",
       "    <tr>\n",
       "      <th>29625327-bc7a-44c4-be47-4cfa2828a760</th>\n",
       "      <td>S2B_MSIL2A_20190226T111049_N0211_R137_T30UXA_2...</td>\n",
       "      <td>https://scihub.copernicus.eu/dhus/odata/v1/Pro...</td>\n",
       "      <td>https://scihub.copernicus.eu/dhus/odata/v1/Pro...</td>\n",
       "      <td>https://scihub.copernicus.eu/dhus/odata/v1/Pro...</td>\n",
       "      <td>Date: 2019-02-26T11:10:49.024Z, Instrument: MS...</td>\n",
       "      <td>2019-02-27 00:34:30.848</td>\n",
       "      <td>2019-02-26 11:10:49.024</td>\n",
       "      <td>2019-02-26 11:10:49.024</td>\n",
       "      <td>10316</td>\n",
       "      <td>137</td>\n",
       "      <td>...</td>\n",
       "      <td>2017-013A</td>\n",
       "      <td>DESCENDING</td>\n",
       "      <td>Sentinel-2B</td>\n",
       "      <td>02.11</td>\n",
       "      <td>Level-2A</td>\n",
       "      <td>S2MSI2A</td>\n",
       "      <td>Sentinel-2</td>\n",
       "      <td>481.23 MB</td>\n",
       "      <td>29625327-bc7a-44c4-be47-4cfa2828a760</td>\n",
       "      <td>POLYGON ((-1.5886536 50.54373917428845, -0.040...</td>\n",
       "    </tr>\n",
       "    <tr>\n",
       "      <th>30b9e88b-94a7-45ec-9ceb-4fa8bf86be04</th>\n",
       "      <td>S2B_MSIL2A_20190226T111049_N0211_R137_T30UXB_2...</td>\n",
       "      <td>https://scihub.copernicus.eu/dhus/odata/v1/Pro...</td>\n",
       "      <td>https://scihub.copernicus.eu/dhus/odata/v1/Pro...</td>\n",
       "      <td>https://scihub.copernicus.eu/dhus/odata/v1/Pro...</td>\n",
       "      <td>Date: 2019-02-26T11:10:49.024Z, Instrument: MS...</td>\n",
       "      <td>2019-02-27 00:35:03.682</td>\n",
       "      <td>2019-02-26 11:10:49.024</td>\n",
       "      <td>2019-02-26 11:10:49.024</td>\n",
       "      <td>10316</td>\n",
       "      <td>137</td>\n",
       "      <td>...</td>\n",
       "      <td>2017-013A</td>\n",
       "      <td>DESCENDING</td>\n",
       "      <td>Sentinel-2B</td>\n",
       "      <td>02.11</td>\n",
       "      <td>Level-2A</td>\n",
       "      <td>S2MSI2A</td>\n",
       "      <td>Sentinel-2</td>\n",
       "      <td>1023.42 MB</td>\n",
       "      <td>30b9e88b-94a7-45ec-9ceb-4fa8bf86be04</td>\n",
       "      <td>POLYGON ((-1.5611267 51.44235231685392, 0.0170...</td>\n",
       "    </tr>\n",
       "    <tr>\n",
       "      <th>40128149-82fa-4d83-84a9-37155856ba6d</th>\n",
       "      <td>S2B_MSIL2A_20190226T111049_N0211_R137_T30UWB_2...</td>\n",
       "      <td>https://scihub.copernicus.eu/dhus/odata/v1/Pro...</td>\n",
       "      <td>https://scihub.copernicus.eu/dhus/odata/v1/Pro...</td>\n",
       "      <td>https://scihub.copernicus.eu/dhus/odata/v1/Pro...</td>\n",
       "      <td>Date: 2019-02-26T11:10:49.024Z, Instrument: MS...</td>\n",
       "      <td>2019-02-27 00:34:10.284</td>\n",
       "      <td>2019-02-26 11:10:49.024</td>\n",
       "      <td>2019-02-26 11:10:49.024</td>\n",
       "      <td>10316</td>\n",
       "      <td>137</td>\n",
       "      <td>...</td>\n",
       "      <td>2017-013A</td>\n",
       "      <td>DESCENDING</td>\n",
       "      <td>Sentinel-2B</td>\n",
       "      <td>02.11</td>\n",
       "      <td>Level-2A</td>\n",
       "      <td>S2MSI2A</td>\n",
       "      <td>Sentinel-2</td>\n",
       "      <td>1.02 GB</td>\n",
       "      <td>40128149-82fa-4d83-84a9-37155856ba6d</td>\n",
       "      <td>POLYGON ((-3.0002747 51.45118220579359, -1.420...</td>\n",
       "    </tr>\n",
       "  </tbody>\n",
       "</table>\n",
       "<p>4 rows × 34 columns</p>\n",
       "</div>"
      ],
      "text/plain": [
       "                                                                                  title  \\\n",
       "09a3b3c8-1223-4133-9f2d-dbb8efd9028b  S2B_MSIL2A_20190226T111049_N0211_R137_T30UWA_2...   \n",
       "29625327-bc7a-44c4-be47-4cfa2828a760  S2B_MSIL2A_20190226T111049_N0211_R137_T30UXA_2...   \n",
       "30b9e88b-94a7-45ec-9ceb-4fa8bf86be04  S2B_MSIL2A_20190226T111049_N0211_R137_T30UXB_2...   \n",
       "40128149-82fa-4d83-84a9-37155856ba6d  S2B_MSIL2A_20190226T111049_N0211_R137_T30UWB_2...   \n",
       "\n",
       "                                                                                   link  \\\n",
       "09a3b3c8-1223-4133-9f2d-dbb8efd9028b  https://scihub.copernicus.eu/dhus/odata/v1/Pro...   \n",
       "29625327-bc7a-44c4-be47-4cfa2828a760  https://scihub.copernicus.eu/dhus/odata/v1/Pro...   \n",
       "30b9e88b-94a7-45ec-9ceb-4fa8bf86be04  https://scihub.copernicus.eu/dhus/odata/v1/Pro...   \n",
       "40128149-82fa-4d83-84a9-37155856ba6d  https://scihub.copernicus.eu/dhus/odata/v1/Pro...   \n",
       "\n",
       "                                                                       link_alternative  \\\n",
       "09a3b3c8-1223-4133-9f2d-dbb8efd9028b  https://scihub.copernicus.eu/dhus/odata/v1/Pro...   \n",
       "29625327-bc7a-44c4-be47-4cfa2828a760  https://scihub.copernicus.eu/dhus/odata/v1/Pro...   \n",
       "30b9e88b-94a7-45ec-9ceb-4fa8bf86be04  https://scihub.copernicus.eu/dhus/odata/v1/Pro...   \n",
       "40128149-82fa-4d83-84a9-37155856ba6d  https://scihub.copernicus.eu/dhus/odata/v1/Pro...   \n",
       "\n",
       "                                                                              link_icon  \\\n",
       "09a3b3c8-1223-4133-9f2d-dbb8efd9028b  https://scihub.copernicus.eu/dhus/odata/v1/Pro...   \n",
       "29625327-bc7a-44c4-be47-4cfa2828a760  https://scihub.copernicus.eu/dhus/odata/v1/Pro...   \n",
       "30b9e88b-94a7-45ec-9ceb-4fa8bf86be04  https://scihub.copernicus.eu/dhus/odata/v1/Pro...   \n",
       "40128149-82fa-4d83-84a9-37155856ba6d  https://scihub.copernicus.eu/dhus/odata/v1/Pro...   \n",
       "\n",
       "                                                                                summary  \\\n",
       "09a3b3c8-1223-4133-9f2d-dbb8efd9028b  Date: 2019-02-26T11:10:49.024Z, Instrument: MS...   \n",
       "29625327-bc7a-44c4-be47-4cfa2828a760  Date: 2019-02-26T11:10:49.024Z, Instrument: MS...   \n",
       "30b9e88b-94a7-45ec-9ceb-4fa8bf86be04  Date: 2019-02-26T11:10:49.024Z, Instrument: MS...   \n",
       "40128149-82fa-4d83-84a9-37155856ba6d  Date: 2019-02-26T11:10:49.024Z, Instrument: MS...   \n",
       "\n",
       "                                               ingestiondate  \\\n",
       "09a3b3c8-1223-4133-9f2d-dbb8efd9028b 2019-02-27 00:34:38.050   \n",
       "29625327-bc7a-44c4-be47-4cfa2828a760 2019-02-27 00:34:30.848   \n",
       "30b9e88b-94a7-45ec-9ceb-4fa8bf86be04 2019-02-27 00:35:03.682   \n",
       "40128149-82fa-4d83-84a9-37155856ba6d 2019-02-27 00:34:10.284   \n",
       "\n",
       "                                               beginposition  \\\n",
       "09a3b3c8-1223-4133-9f2d-dbb8efd9028b 2019-02-26 11:10:49.024   \n",
       "29625327-bc7a-44c4-be47-4cfa2828a760 2019-02-26 11:10:49.024   \n",
       "30b9e88b-94a7-45ec-9ceb-4fa8bf86be04 2019-02-26 11:10:49.024   \n",
       "40128149-82fa-4d83-84a9-37155856ba6d 2019-02-26 11:10:49.024   \n",
       "\n",
       "                                                 endposition  orbitnumber  \\\n",
       "09a3b3c8-1223-4133-9f2d-dbb8efd9028b 2019-02-26 11:10:49.024        10316   \n",
       "29625327-bc7a-44c4-be47-4cfa2828a760 2019-02-26 11:10:49.024        10316   \n",
       "30b9e88b-94a7-45ec-9ceb-4fa8bf86be04 2019-02-26 11:10:49.024        10316   \n",
       "40128149-82fa-4d83-84a9-37155856ba6d 2019-02-26 11:10:49.024        10316   \n",
       "\n",
       "                                      relativeorbitnumber  \\\n",
       "09a3b3c8-1223-4133-9f2d-dbb8efd9028b                  137   \n",
       "29625327-bc7a-44c4-be47-4cfa2828a760                  137   \n",
       "30b9e88b-94a7-45ec-9ceb-4fa8bf86be04                  137   \n",
       "40128149-82fa-4d83-84a9-37155856ba6d                  137   \n",
       "\n",
       "                                                            ...                          \\\n",
       "09a3b3c8-1223-4133-9f2d-dbb8efd9028b                        ...                           \n",
       "29625327-bc7a-44c4-be47-4cfa2828a760                        ...                           \n",
       "30b9e88b-94a7-45ec-9ceb-4fa8bf86be04                        ...                           \n",
       "40128149-82fa-4d83-84a9-37155856ba6d                        ...                           \n",
       "\n",
       "                                      platformidentifier  orbitdirection  \\\n",
       "09a3b3c8-1223-4133-9f2d-dbb8efd9028b           2017-013A      DESCENDING   \n",
       "29625327-bc7a-44c4-be47-4cfa2828a760           2017-013A      DESCENDING   \n",
       "30b9e88b-94a7-45ec-9ceb-4fa8bf86be04           2017-013A      DESCENDING   \n",
       "40128149-82fa-4d83-84a9-37155856ba6d           2017-013A      DESCENDING   \n",
       "\n",
       "                                      platformserialidentifier  \\\n",
       "09a3b3c8-1223-4133-9f2d-dbb8efd9028b               Sentinel-2B   \n",
       "29625327-bc7a-44c4-be47-4cfa2828a760               Sentinel-2B   \n",
       "30b9e88b-94a7-45ec-9ceb-4fa8bf86be04               Sentinel-2B   \n",
       "40128149-82fa-4d83-84a9-37155856ba6d               Sentinel-2B   \n",
       "\n",
       "                                      processingbaseline  processinglevel  \\\n",
       "09a3b3c8-1223-4133-9f2d-dbb8efd9028b               02.11         Level-2A   \n",
       "29625327-bc7a-44c4-be47-4cfa2828a760               02.11         Level-2A   \n",
       "30b9e88b-94a7-45ec-9ceb-4fa8bf86be04               02.11         Level-2A   \n",
       "40128149-82fa-4d83-84a9-37155856ba6d               02.11         Level-2A   \n",
       "\n",
       "                                      producttype  platformname        size  \\\n",
       "09a3b3c8-1223-4133-9f2d-dbb8efd9028b      S2MSI2A    Sentinel-2   541.45 MB   \n",
       "29625327-bc7a-44c4-be47-4cfa2828a760      S2MSI2A    Sentinel-2   481.23 MB   \n",
       "30b9e88b-94a7-45ec-9ceb-4fa8bf86be04      S2MSI2A    Sentinel-2  1023.42 MB   \n",
       "40128149-82fa-4d83-84a9-37155856ba6d      S2MSI2A    Sentinel-2     1.02 GB   \n",
       "\n",
       "                                                                      uuid  \\\n",
       "09a3b3c8-1223-4133-9f2d-dbb8efd9028b  09a3b3c8-1223-4133-9f2d-dbb8efd9028b   \n",
       "29625327-bc7a-44c4-be47-4cfa2828a760  29625327-bc7a-44c4-be47-4cfa2828a760   \n",
       "30b9e88b-94a7-45ec-9ceb-4fa8bf86be04  30b9e88b-94a7-45ec-9ceb-4fa8bf86be04   \n",
       "40128149-82fa-4d83-84a9-37155856ba6d  40128149-82fa-4d83-84a9-37155856ba6d   \n",
       "\n",
       "                                                                               geometry  \n",
       "09a3b3c8-1223-4133-9f2d-dbb8efd9028b  POLYGON ((-3.0002747 50.55229211062575, -1.450...  \n",
       "29625327-bc7a-44c4-be47-4cfa2828a760  POLYGON ((-1.5886536 50.54373917428845, -0.040...  \n",
       "30b9e88b-94a7-45ec-9ceb-4fa8bf86be04  POLYGON ((-1.5611267 51.44235231685392, 0.0170...  \n",
       "40128149-82fa-4d83-84a9-37155856ba6d  POLYGON ((-3.0002747 51.45118220579359, -1.420...  \n",
       "\n",
       "[4 rows x 34 columns]"
      ]
     },
     "execution_count": 7,
     "metadata": {},
     "output_type": "execute_result"
    }
   ],
   "source": [
    "api.to_geodataframe(products)"
   ]
  },
  {
   "cell_type": "markdown",
   "metadata": {},
   "source": [
    "Plot the table as a GeoPandas dataframe, based on the uuid field"
   ]
  },
  {
   "cell_type": "code",
   "execution_count": 8,
   "metadata": {},
   "outputs": [
    {
     "data": {
      "text/plain": [
       "<matplotlib.axes._subplots.AxesSubplot at 0x256eede0dd8>"
      ]
     },
     "execution_count": 8,
     "metadata": {},
     "output_type": "execute_result"
    },
    {
     "data": {
      "image/png": "[encoded data removed]",
      "text/plain": [
       "<Figure size 432x288 with 1 Axes>"
      ]
     },
     "metadata": {},
     "output_type": "display_data"
    }
   ],
   "source": [
    "areas = api.to_geodataframe(products)\n",
    "areas.plot(column='uuid', cmap=None)"
   ]
  },
  {
   "cell_type": "markdown",
   "metadata": {},
   "source": [
    "Label these polygons"
   ]
  },
  {
   "cell_type": "code",
   "execution_count": 9,
   "metadata": {},
   "outputs": [
    {
     "data": {
      "text/plain": [
       "09a3b3c8-1223-4133-9f2d-dbb8efd9028b    Annotation(-2.23334, 50.0551, '09a3b3c8-1223-4...\n",
       "29625327-bc7a-44c4-be47-4cfa2828a760    Annotation(-0.836784, 50.0375, '29625327-bc7a-...\n",
       "30b9e88b-94a7-45ec-9ceb-4fa8bf86be04    Annotation(-0.795352, 50.9358, '30b9e88b-94a7-...\n",
       "40128149-82fa-4d83-84a9-37155856ba6d    Annotation(-2.21863, 50.954, '40128149-82fa-4d...\n",
       "dtype: object"
      ]
     },
     "execution_count": 9,
     "metadata": {},
     "output_type": "execute_result"
    },
    {
     "data": {
      "image/png": "[encoded data removed]",
      "text/plain": [
       "<Figure size 1440x1440 with 1 Axes>"
      ]
     },
     "metadata": {},
     "output_type": "display_data"
    }
   ],
   "source": [
    "ax = areas.plot(column='uuid', cmap=None, figsize=(20, 20))\n",
    "areas.apply(lambda x: ax.annotate(s=x.uuid, xy=x.geometry.centroid.coords[0], ha='center'),axis=1)"
   ]
  },
  {
   "cell_type": "markdown",
   "metadata": {},
   "source": [
    "### Inspect vs our bounds\n",
    "use geopandas to check which scene to download"
   ]
  },
  {
   "cell_type": "code",
   "execution_count": 10,
   "metadata": {},
   "outputs": [
    {
     "data": {
      "image/png": "[encoded data removed]",
      "text/plain": [
       "<Figure size 432x288 with 1 Axes>"
      ]
     },
     "metadata": {},
     "output_type": "display_data"
    }
   ],
   "source": [
    "gdf2 = gpd.read_file(boundsdata)\n",
    "f, ax = plt.subplots(1)\n",
    "areas.plot(ax=ax,column='uuid',cmap=None,)\n",
    "gdf2.plot(ax=ax)\n",
    "plt.show()"
   ]
  },
  {
   "cell_type": "markdown",
   "metadata": {},
   "source": [
    "### Get the uuid and inspect produuct data"
   ]
  },
  {
   "cell_type": "code",
   "execution_count": 11,
   "metadata": {},
   "outputs": [
    {
     "data": {
      "text/plain": [
       "{'id': '30b9e88b-94a7-45ec-9ceb-4fa8bf86be04',\n",
       " 'title': 'S2B_MSIL2A_20190226T111049_N0211_R137_T30UXB_20190226T172349',\n",
       " 'size': 1073194791,\n",
       " 'md5': 'BEDF8F60B10A030B54EF6710642A46C2',\n",
       " 'date': datetime.datetime(2019, 2, 26, 11, 10, 49, 24000),\n",
       " 'footprint': 'POLYGON((-1.5611267 51.44235231685392,0.017025008525814 51.41234265506691,-0.046142578 50.42629366061962,-1.5912781 50.45527216066188,-1.5611267 51.44235231685392))',\n",
       " 'url': \"https://scihub.copernicus.eu/dhus/odata/v1/Products('30b9e88b-94a7-45ec-9ceb-4fa8bf86be04')/$value\",\n",
       " 'Online': True,\n",
       " 'Creation Date': datetime.datetime(2019, 2, 27, 0, 47, 32, 672000),\n",
       " 'Ingestion Date': datetime.datetime(2019, 2, 27, 0, 35, 3, 682000)}"
      ]
     },
     "execution_count": 11,
     "metadata": {},
     "output_type": "execute_result"
    }
   ],
   "source": [
    "api.get_product_odata('30b9e88b-94a7-45ec-9ceb-4fa8bf86be04')"
   ]
  },
  {
   "cell_type": "markdown",
   "metadata": {},
   "source": [
    "## Download the data"
   ]
  },
  {
   "cell_type": "code",
   "execution_count": 12,
   "metadata": {},
   "outputs": [
    {
     "data": {
      "text/plain": [
       "{'id': '30b9e88b-94a7-45ec-9ceb-4fa8bf86be04',\n",
       " 'title': 'S2B_MSIL2A_20190226T111049_N0211_R137_T30UXB_20190226T172349',\n",
       " 'size': 1073194791,\n",
       " 'md5': 'BEDF8F60B10A030B54EF6710642A46C2',\n",
       " 'date': datetime.datetime(2019, 2, 26, 11, 10, 49, 24000),\n",
       " 'footprint': 'POLYGON((-1.5611267 51.44235231685392,0.017025008525814 51.41234265506691,-0.046142578 50.42629366061962,-1.5912781 50.45527216066188,-1.5611267 51.44235231685392))',\n",
       " 'url': \"https://scihub.copernicus.eu/dhus/odata/v1/Products('30b9e88b-94a7-45ec-9ceb-4fa8bf86be04')/$value\",\n",
       " 'Online': True,\n",
       " 'Creation Date': datetime.datetime(2019, 2, 27, 0, 47, 32, 672000),\n",
       " 'Ingestion Date': datetime.datetime(2019, 2, 27, 0, 35, 3, 682000),\n",
       " 'path': '.\\\\S2B_MSIL2A_20190226T111049_N0211_R137_T30UXB_20190226T172349.zip',\n",
       " 'downloaded_bytes': 0}"
      ]
     },
     "execution_count": 12,
     "metadata": {},
     "output_type": "execute_result"
    }
   ],
   "source": [
    "api.download('30b9e88b-94a7-45ec-9ceb-4fa8bf86be04')"
   ]
  },
  {
   "cell_type": "markdown",
   "metadata": {},
   "source": [
    "Get the path name so we can unzip"
   ]
  },
  {
   "cell_type": "code",
   "execution_count": 13,
   "metadata": {},
   "outputs": [],
   "source": [
    "path_tozip = Out[12]['path'] ##notebook way - will not work in standalone script"
   ]
  },
  {
   "cell_type": "markdown",
   "metadata": {},
   "source": [
    "Unzip using code found on stackoverflow\n",
    "<br>\n",
    "<br>\n",
    "https://stackoverflow.com/questions/3451111/unzipping-files-in-python"
   ]
  },
  {
   "cell_type": "code",
   "execution_count": 14,
   "metadata": {},
   "outputs": [],
   "source": [
    "import zipfile # https://stackoverflow.com/questions/3451111/unzipping-files-in-python\n",
    "zip_ref = zipfile.ZipFile(path_tozip, 'r')\n",
    "zip_ref.extractall(r'D:\\sentinelsat')\n",
    "zip_ref.close()"
   ]
  },
  {
   "cell_type": "markdown",
   "metadata": {},
   "source": [
    "The data is now downloaded, and unzipped and waiting for you to work with it. There are plenty of things you can do with Satellite imagery for inspiration take a look at my website www.acgeospatial.co.uk\n",
    "\n",
    "<br>\n",
    "<br>\n",
    "I offer training in Geospatial Python programming contact me info@acgeospatial.co.uk\n"
   ]
  },
  {
   "cell_type": "code",
   "execution_count": null,
   "metadata": {},
   "outputs": [],
   "source": []
  }
 ],
 "metadata": {
  "kernelspec": {
   "display_name": "Python 3",
   "language": "python",
   "name": "python3"
  },
  "language_info": {
   "codemirror_mode": {
    "name": "ipython",
    "version": 3
   },
   "file_extension": ".py",
   "mimetype": "text/x-python",
   "name": "python",
   "nbconvert_exporter": "python",
   "pygments_lexer": "ipython3",
   "version": "3.6.5"
  }
 },
 "nbformat": 4,
 "nbformat_minor": 2
}
