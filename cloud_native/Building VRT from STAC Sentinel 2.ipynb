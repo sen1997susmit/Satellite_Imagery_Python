{
 "cells": [
  {
   "cell_type": "markdown",
   "metadata": {},
   "source": [
    "# Building virtual rasters from STAC"
   ]
  },
  {
   "cell_type": "markdown",
   "metadata": {},
   "source": [
    "Please check out my blog post associated to this code if you would like some expansion on the code shown below:\n",
    "http://www.acgeospatial.co.uk/building-virtual-rasters-from-stac"
   ]
  },
  {
   "cell_type": "code",
   "execution_count": 1,
   "metadata": {},
   "outputs": [
    {
     "name": "stdout",
     "output_type": "stream",
     "text": [
      "bbox search: 37 items\n"
     ]
    }
   ],
   "source": [
    "from satsearch import Search\n",
    "import geopandas as gpd\n",
    "gdf = gpd.read_file('map.geojson')\n",
    "bounds = gdf.bounds\n",
    "boundary = bounds.values.tolist()\n",
    "search = Search(bbox=boundary[0], datetime='2020-05-01/2020-07-30', \n",
    "                collections=['sentinel-s2-l2a-cogs'], url='https://earth-search.aws.element84.com/v0',\n",
    "               query={'eo:cloud_cover': {'lt': 5}})\n",
    "print('bbox search: %s items' % search.found())"
   ]
  },
  {
   "cell_type": "code",
   "execution_count": 2,
   "metadata": {},
   "outputs": [],
   "source": [
    "items = search.items()\n",
    "url_dict = {}\n",
    "for item in items:\n",
    "    if item.id[4:9] == \"30UXB\":\n",
    "        file_url = item.asset('visual')['href']\n",
    "        fileout = item.id+'.vrt'\n",
    "        url_dict[fileout] = file_url"
   ]
  },
  {
   "cell_type": "code",
   "execution_count": 3,
   "metadata": {},
   "outputs": [
    {
     "name": "stdout",
     "output_type": "stream",
     "text": [
      "9\n",
      "{'S2B_30UXB_20200730_0_L2A.vrt': 'https://sentinel-cogs.s3.us-west-2.amazonaws.com/sentinel-s2-l2a-cogs/30/U/XB/2020/7/S2B_30UXB_20200730_0_L2A/TCI.tif', 'S2A_30UXB_20200625_0_L2A.vrt': 'https://sentinel-cogs.s3.us-west-2.amazonaws.com/sentinel-s2-l2a-cogs/30/U/XB/2020/6/S2A_30UXB_20200625_0_L2A/TCI.tif', 'S2B_30UXB_20200623_0_L2A.vrt': 'https://sentinel-cogs.s3.us-west-2.amazonaws.com/sentinel-s2-l2a-cogs/30/U/XB/2020/6/S2B_30UXB_20200623_0_L2A/TCI.tif', 'S2B_30UXB_20200531_0_L2A.vrt': 'https://sentinel-cogs.s3.us-west-2.amazonaws.com/sentinel-s2-l2a-cogs/30/U/XB/2020/5/S2B_30UXB_20200531_0_L2A/TCI.tif', 'S2A_30UXB_20200529_0_L2A.vrt': 'https://sentinel-cogs.s3.us-west-2.amazonaws.com/sentinel-s2-l2a-cogs/30/U/XB/2020/5/S2A_30UXB_20200529_0_L2A/TCI.tif', 'S2A_30UXB_20200526_0_L2A.vrt': 'https://sentinel-cogs.s3.us-west-2.amazonaws.com/sentinel-s2-l2a-cogs/30/U/XB/2020/5/S2A_30UXB_20200526_0_L2A/TCI.tif', 'S2B_30UXB_20200521_0_L2A.vrt': 'https://sentinel-cogs.s3.us-west-2.amazonaws.com/sentinel-s2-l2a-cogs/30/U/XB/2020/5/S2B_30UXB_20200521_0_L2A/TCI.tif', 'S2A_30UXB_20200519_0_L2A.vrt': 'https://sentinel-cogs.s3.us-west-2.amazonaws.com/sentinel-s2-l2a-cogs/30/U/XB/2020/5/S2A_30UXB_20200519_0_L2A/TCI.tif', 'S2A_30UXB_20200506_0_L2A.vrt': 'https://sentinel-cogs.s3.us-west-2.amazonaws.com/sentinel-s2-l2a-cogs/30/U/XB/2020/5/S2A_30UXB_20200506_0_L2A/TCI.tif'}\n"
     ]
    }
   ],
   "source": [
    "print(len(url_dict))\n",
    "print(url_dict)"
   ]
  },
  {
   "cell_type": "code",
   "execution_count": 4,
   "metadata": {},
   "outputs": [],
   "source": [
    "import os\n",
    "output_dir = 'D:\\my_project\\sat_links_TCI'\n",
    "if not os.path.exists(output_dir):\n",
    "    os.makedirs(output_dir)\n",
    "os.chdir(output_dir)"
   ]
  },
  {
   "cell_type": "code",
   "execution_count": 5,
   "metadata": {},
   "outputs": [],
   "source": [
    "import subprocess\n",
    "for _, (key, value) in enumerate(url_dict.items()):\n",
    "    subprocess.call('gdalbuildvrt ' + key + ' ' + value)"
   ]
  }
 ],
 "metadata": {
  "kernelspec": {
   "display_name": "Python 3",
   "language": "python",
   "name": "python3"
  },
  "language_info": {
   "codemirror_mode": {
    "name": "ipython",
    "version": 3
   },
   "file_extension": ".py",
   "mimetype": "text/x-python",
   "name": "python",
   "nbconvert_exporter": "python",
   "pygments_lexer": "ipython3",
   "version": "3.7.7"
  }
 },
 "nbformat": 4,
 "nbformat_minor": 4
}
