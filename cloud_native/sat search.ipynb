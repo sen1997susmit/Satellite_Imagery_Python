{
 "cells": [
  {
   "cell_type": "markdown",
   "metadata": {},
   "source": [
    "# STAC, COG, Python and QGIS."
   ]
  },
  {
   "cell_type": "markdown",
   "metadata": {},
   "source": [
    "Please check out my blog post associated to this code if you would like some expansion on the code shown below:\n",
    "http://www.acgeospatial.co.uk/stac-cog-python-and-qgis\n",
    "\n",
    "please check out:\n",
    "\n",
    "https://github.com/sat-utils/sat-stac/blob/master/tutorial-1.ipynb\n",
    "\n",
    "https://github.com/sat-utils/sat-stac/blob/master/tutorial-2.ipynb\n",
    "\n",
    "https://github.com/sat-utils/sat-search/blob/master/tutorial-1.ipynb\n",
    "\n",
    "as I have used/reused much of the code in parts of this post"
   ]
  },
  {
   "cell_type": "code",
   "execution_count": 1,
   "metadata": {},
   "outputs": [
    {
     "name": "stdout",
     "output_type": "stream",
     "text": [
      "bbox search: 20314 items\n"
     ]
    }
   ],
   "source": [
    "from satsearch import Search\n",
    "\n",
    "search = Search(bbox=[-110, 39.5, -105, 40.5], url='https://earth-search.aws.element84.com/v0')\n",
    "print('bbox search: %s items' % search.found())\n",
    "\n"
   ]
  },
  {
   "cell_type": "code",
   "execution_count": 2,
   "metadata": {},
   "outputs": [
    {
     "name": "stdout",
     "output_type": "stream",
     "text": [
      "0   -1.63147\n",
      "Name: minx, dtype: float64\n",
      "[-1.6314697265625, 50.523904629228625, -0.9558105468749999, 50.819818262156545]\n"
     ]
    }
   ],
   "source": [
    "import geopandas as gpd\n",
    "gdf = gpd.read_file('map.geojson')\n",
    "bounds = gdf.bounds\n",
    "print(bounds['minx'])\n",
    "boundary = bounds.values.tolist()\n",
    "print(boundary[0])"
   ]
  },
  {
   "cell_type": "code",
   "execution_count": 3,
   "metadata": {},
   "outputs": [
    {
     "name": "stdout",
     "output_type": "stream",
     "text": [
      "bbox search: 5230 items\n"
     ]
    }
   ],
   "source": [
    "search = Search(bbox=boundary[0], url='https://earth-search.aws.element84.com/v0')\n",
    "print('bbox search: %s items' % search.found())"
   ]
  },
  {
   "cell_type": "code",
   "execution_count": 4,
   "metadata": {},
   "outputs": [
    {
     "name": "stdout",
     "output_type": "stream",
     "text": [
      "bbox search: 393 items\n"
     ]
    }
   ],
   "source": [
    "search = Search(bbox=boundary[0], datetime='2020-05-01/2020-07-30', url='https://earth-search.aws.element84.com/v0')\n",
    "print('bbox search: %s items' % search.found())"
   ]
  },
  {
   "cell_type": "code",
   "execution_count": 5,
   "metadata": {},
   "outputs": [
    {
     "name": "stdout",
     "output_type": "stream",
     "text": [
      "393 items\n",
      "3 collections\n",
      "[sentinel-s2-l1c, sentinel-s2-l2a, sentinel-s2-l2a-cogs]\n"
     ]
    }
   ],
   "source": [
    "items = search.items()\n",
    "print('%s items' % len(items))\n",
    "print('%s collections' % len(items._collections))\n",
    "print(items._collections)"
   ]
  },
  {
   "cell_type": "code",
   "execution_count": 6,
   "metadata": {},
   "outputs": [
    {
     "name": "stdout",
     "output_type": "stream",
     "text": [
      "sentinel-s2-l2a\n"
     ]
    }
   ],
   "source": [
    "print(items._collections[1])"
   ]
  },
  {
   "cell_type": "code",
   "execution_count": 7,
   "metadata": {},
   "outputs": [
    {
     "name": "stdout",
     "output_type": "stream",
     "text": [
      "bbox search: 131 items\n"
     ]
    }
   ],
   "source": [
    "search = Search(bbox=boundary[0], datetime='2020-05-01/2020-07-30', collections=['sentinel-s2-l2a-cogs'], url='https://earth-search.aws.element84.com/v0')\n",
    "print('bbox search: %s items' % search.found())\n"
   ]
  },
  {
   "cell_type": "code",
   "execution_count": 8,
   "metadata": {},
   "outputs": [
    {
     "name": "stdout",
     "output_type": "stream",
     "text": [
      "Items (131):\n",
      "date                      id                        eo:cloud_cover            \n",
      "2020-07-30                S2B_30UWA_20200730_0_L2A  0                         \n",
      "2020-07-30                S2B_30UXA_20200730_0_L2A  0                         \n",
      "2020-07-30                S2B_30UWB_20200730_0_L2A  5.78                      \n",
      "2020-07-30                S2B_30UXB_20200730_0_L2A  3.52                      \n",
      "2020-07-28                S2A_30UWA_20200728_0_L2A  5.45                      \n",
      "2020-07-28                S2A_30UWB_20200728_0_L2A  56.82                     \n",
      "2020-07-28                S2A_30UXB_20200728_0_L2A  70.1                      \n",
      "2020-07-25                S2A_30UWA_20200725_1_L2A  100                       \n",
      "2020-07-25                S2A_30UXA_20200725_1_L2A  99.96                     \n",
      "2020-07-25                S2A_30UWB_20200725_1_L2A  100                       \n",
      "2020-07-25                S2A_30UXB_20200725_0_L2A  99.94                     \n",
      "2020-07-23                S2B_30UWA_20200723_0_L2A  88.14                     \n",
      "2020-07-23                S2B_30UWB_20200723_0_L2A  63.39                     \n",
      "2020-07-23                S2B_30UXB_20200723_0_L2A  61.68                     \n",
      "2020-07-20                S2B_30UWA_20200720_0_L2A  34.82                     \n",
      "2020-07-20                S2B_30UXA_20200720_0_L2A  22.21                     \n",
      "2020-07-20                S2B_30UWB_20200720_0_L2A  10.51                     \n",
      "2020-07-20                S2B_30UXB_20200720_0_L2A  19.55                     \n",
      "2020-07-18                S2A_30UWA_20200718_0_L2A  88.93                     \n",
      "2020-07-18                S2A_30UWB_20200718_0_L2A  60.84                     \n",
      "2020-07-18                S2A_30UXB_20200718_0_L2A  91.32                     \n",
      "2020-07-15                S2A_30UWA_20200715_0_L2A  56.66                     \n",
      "2020-07-15                S2A_30UXA_20200715_0_L2A  82.54                     \n",
      "2020-07-15                S2A_30UWB_20200715_0_L2A  99.46                     \n",
      "2020-07-15                S2A_30UXB_20200715_0_L2A  95.01                     \n",
      "2020-07-13                S2B_30UWA_20200713_0_L2A  63.62                     \n",
      "2020-07-13                S2B_30UWB_20200713_0_L2A  81.3                      \n",
      "2020-07-13                S2B_30UXB_20200713_0_L2A  77.39                     \n",
      "2020-07-10                S2B_30UWA_20200710_0_L2A  3.63                      \n",
      "2020-07-10                S2B_30UXA_20200710_0_L2A  1.27                      \n",
      "2020-07-10                S2B_30UWB_20200710_0_L2A  60.77                     \n",
      "2020-07-10                S2B_30UXB_20200710_0_L2A  51.54                     \n",
      "2020-07-08                S2A_30UWA_20200708_0_L2A  76.97                     \n",
      "2020-07-08                S2A_30UWB_20200708_0_L2A  91.99                     \n",
      "2020-07-08                S2A_30UXB_20200708_0_L2A  98.98                     \n",
      "2020-07-05                S2A_30UWA_20200705_0_L2A  27.68                     \n",
      "2020-07-05                S2A_30UXA_20200705_0_L2A  45.51                     \n",
      "2020-07-05                S2A_30UWB_20200705_0_L2A  23.48                     \n",
      "2020-07-05                S2A_30UXB_20200705_0_L2A  7.85                      \n",
      "2020-07-03                S2B_30UWA_20200703_0_L2A  82.69                     \n",
      "2020-07-03                S2B_30UWB_20200703_0_L2A  75.13                     \n",
      "2020-07-03                S2B_30UXB_20200703_0_L2A  99                        \n",
      "2020-06-30                S2B_30UWA_20200630_0_L2A  100                       \n",
      "2020-06-30                S2B_30UXA_20200630_0_L2A  97.64                     \n",
      "2020-06-30                S2B_30UWB_20200630_0_L2A  100                       \n",
      "2020-06-30                S2B_30UXB_20200630_0_L2A  99.61                     \n",
      "2020-06-28                S2A_30UWA_20200628_0_L2A  3.18                      \n",
      "2020-06-28                S2A_30UWB_20200628_0_L2A  50.31                     \n",
      "2020-06-28                S2A_30UXB_20200628_0_L2A  60.69                     \n",
      "2020-06-25                S2A_30UWA_20200625_0_L2A  0                         \n",
      "2020-06-25                S2A_30UXA_20200625_0_L2A  0                         \n",
      "2020-06-25                S2A_30UWB_20200625_0_L2A  0                         \n",
      "2020-06-25                S2A_30UXB_20200625_0_L2A  0                         \n",
      "2020-06-23                S2B_30UWA_20200623_0_L2A  0                         \n",
      "2020-06-23                S2B_30UWB_20200623_0_L2A  0.01                      \n",
      "2020-06-23                S2B_30UXB_20200623_0_L2A  0                         \n",
      "2020-06-20                S2B_30UWA_20200620_0_L2A  24.09                     \n",
      "2020-06-20                S2B_30UXA_20200620_0_L2A  67.9                      \n",
      "2020-06-20                S2B_30UWB_20200620_0_L2A  66.63                     \n",
      "2020-06-20                S2B_30UXB_20200620_0_L2A  38.78                     \n",
      "2020-06-18                S2A_30UWB_20200618_0_L2A  99.96                     \n",
      "2020-06-18                S2A_30UXB_20200618_0_L2A  100                       \n",
      "2020-06-15                S2A_30UWA_20200615_0_L2A  55.4                      \n",
      "2020-06-15                S2A_30UXA_20200615_0_L2A  91.35                     \n",
      "2020-06-15                S2A_30UWB_20200615_0_L2A  30.4                      \n",
      "2020-06-15                S2A_30UXB_20200615_0_L2A  58.2                      \n",
      "2020-06-13                S2B_30UWA_20200613_0_L2A  92.43                     \n",
      "2020-06-13                S2B_30UWB_20200613_0_L2A  20.84                     \n",
      "2020-06-13                S2B_30UXB_20200613_0_L2A  10.77                     \n",
      "2020-06-10                S2B_30UWA_20200610_0_L2A  78.24                     \n",
      "2020-06-10                S2B_30UXA_20200610_0_L2A  99.96                     \n",
      "2020-06-10                S2B_30UWB_20200610_0_L2A  96.74                     \n",
      "2020-06-10                S2B_30UXB_20200610_0_L2A  99.99                     \n",
      "2020-06-08                S2A_30UWB_20200608_0_L2A  34.39                     \n",
      "2020-06-08                S2A_30UXB_20200608_0_L2A  67.23                     \n",
      "2020-06-05                S2A_30UWA_20200605_0_L2A  47.26                     \n",
      "2020-06-05                S2A_30UXA_20200605_0_L2A  40.1                      \n",
      "2020-06-05                S2A_30UWB_20200605_0_L2A  53.05                     \n",
      "2020-06-05                S2A_30UXB_20200605_0_L2A  55.06                     \n",
      "2020-06-03                S2B_30UWA_20200603_0_L2A  98.13                     \n",
      "2020-06-03                S2B_30UWB_20200603_0_L2A  99.83                     \n",
      "2020-06-03                S2B_30UXB_20200603_0_L2A  98.73                     \n",
      "2020-06-03                S2B_30UWB_20200603_1_L2A  100                       \n",
      "2020-06-03                S2B_30UXB_20200603_1_L2A  99.97                     \n",
      "2020-05-31                S2B_30UWA_20200531_0_L2A  0                         \n",
      "2020-05-31                S2B_30UXA_20200531_0_L2A  0                         \n",
      "2020-05-31                S2B_30UWB_20200531_0_L2A  1.66                      \n",
      "2020-05-31                S2B_30UXB_20200531_0_L2A  2.12                      \n",
      "2020-05-29                S2A_30UWB_20200529_0_L2A  0                         \n",
      "2020-05-29                S2A_30UXB_20200529_0_L2A  0                         \n",
      "2020-05-26                S2A_30UWA_20200526_0_L2A  0.05                      \n",
      "2020-05-26                S2A_30UXA_20200526_0_L2A  0.06                      \n",
      "2020-05-26                S2A_30UWB_20200526_0_L2A  1.76                      \n",
      "2020-05-26                S2A_30UWA_20200526_1_L2A  0                         \n",
      "2020-05-26                S2A_30UXA_20200526_1_L2A  0                         \n",
      "2020-05-26                S2A_30UXB_20200526_0_L2A  0                         \n",
      "2020-05-26                S2A_30UWB_20200526_1_L2A  12.6                      \n",
      "2020-05-26                S2A_30UXB_20200526_1_L2A  10.88                     \n",
      "2020-05-24                S2B_30UWA_20200524_0_L2A  0.01                      \n",
      "2020-05-24                S2B_30UWB_20200524_0_L2A  8.37                      \n",
      "2020-05-24                S2B_30UXB_20200524_0_L2A  6.47                      \n",
      "2020-05-21                S2B_30UWA_20200521_0_L2A  0                         \n",
      "2020-05-21                S2B_30UXA_20200521_0_L2A  0                         \n",
      "2020-05-21                S2B_30UWB_20200521_0_L2A  0.17                      \n",
      "2020-05-21                S2B_30UXB_20200521_0_L2A  0.46                      \n",
      "2020-05-19                S2A_30UWB_20200519_0_L2A  10.56                     \n",
      "2020-05-19                S2A_30UXB_20200519_0_L2A  0                         \n",
      "2020-05-16                S2A_30UWA_20200516_0_L2A  86.96                     \n",
      "2020-05-16                S2A_30UXA_20200516_0_L2A  83.68                     \n",
      "2020-05-16                S2A_30UWB_20200516_0_L2A  73.54                     \n",
      "2020-05-16                S2A_30UXB_20200516_0_L2A  71.37                     \n",
      "2020-05-14                S2B_30UWA_20200514_0_L2A  2.86                      \n",
      "2020-05-14                S2B_30UWB_20200514_0_L2A  15.01                     \n",
      "2020-05-14                S2B_30UXB_20200514_0_L2A  22.93                     \n",
      "2020-05-11                S2B_30UWA_20200511_0_L2A  39.87                     \n",
      "2020-05-11                S2B_30UXA_20200511_0_L2A  49.06                     \n",
      "2020-05-11                S2B_30UWB_20200511_0_L2A  49.64                     \n",
      "2020-05-11                S2B_30UXB_20200511_0_L2A  42.47                     \n",
      "2020-05-09                S2A_30UWB_20200509_0_L2A  55.64                     \n",
      "2020-05-09                S2A_30UXB_20200509_0_L2A  29.33                     \n",
      "2020-05-06                S2A_30UWA_20200506_0_L2A  0                         \n",
      "2020-05-06                S2A_30UXA_20200506_0_L2A  0                         \n",
      "2020-05-06                S2A_30UWB_20200506_0_L2A  0                         \n",
      "2020-05-06                S2A_30UXB_20200506_0_L2A  0                         \n",
      "2020-05-04                S2B_30UWA_20200504_0_L2A  99.19                     \n",
      "2020-05-04                S2B_30UWB_20200504_0_L2A  53.6                      \n",
      "2020-05-04                S2B_30UXB_20200504_0_L2A  45.31                     \n",
      "2020-05-01                S2B_30UWA_20200501_0_L2A  4.19                      \n",
      "2020-05-01                S2B_30UXA_20200501_0_L2A  28.61                     \n",
      "2020-05-01                S2B_30UWB_20200501_0_L2A  20.3                      \n",
      "2020-05-01                S2B_30UXB_20200501_0_L2A  29.45                     \n",
      "\n"
     ]
    }
   ],
   "source": [
    "items = search.items()\n",
    "print(items.summary(['date', 'id', 'eo:cloud_cover']))"
   ]
  },
  {
   "cell_type": "code",
   "execution_count": 9,
   "metadata": {},
   "outputs": [
    {
     "name": "stdout",
     "output_type": "stream",
     "text": [
      "<class 'satstac.item.Item'>\n",
      "S2B_30UWA_20200730_0_L2A\n"
     ]
    }
   ],
   "source": [
    "print(type(items[0]))\n",
    "print(items[0])"
   ]
  },
  {
   "cell_type": "code",
   "execution_count": 10,
   "metadata": {},
   "outputs": [
    {
     "name": "stdout",
     "output_type": "stream",
     "text": [
      "{'thumbnail': {'title': 'Thumbnail', 'type': 'image/png', 'href': 'https://roda.sentinel-hub.com/sentinel-s2-l1c/tiles/30/U/WA/2020/7/30/0/preview.jpg'}, 'overview': {'title': 'True color image', 'type': 'image/tiff; application=geotiff; profile=cloud-optimized', 'href': 'https://sentinel-cogs.s3.us-west-2.amazonaws.com/sentinel-s2-l2a-cogs/30/U/WA/2020/7/S2B_30UWA_20200730_0_L2A/L2A_PVI.tif', 'proj:shape': [343, 343], 'proj:transform': [320, 0, 499980, 0, -320, 5600040, 0, 0, 1]}, 'info': {'title': 'Original JSON metadata', 'type': 'application/json', 'href': 'https://roda.sentinel-hub.com/sentinel-s2-l2a/tiles/30/U/WA/2020/7/30/0/tileInfo.json'}, 'metadata': {'title': 'Original XML metadata', 'type': 'application/xml', 'href': 'https://roda.sentinel-hub.com/sentinel-s2-l2a/tiles/30/U/WA/2020/7/30/0/metadata.xml'}, 'visual': {'title': 'True color image', 'type': 'image/tiff; application=geotiff; profile=cloud-optimized', 'href': 'https://sentinel-cogs.s3.us-west-2.amazonaws.com/sentinel-s2-l2a-cogs/30/U/WA/2020/7/S2B_30UWA_20200730_0_L2A/TCI.tif', 'proj:shape': [10980, 10980], 'proj:transform': [10, 0, 499980, 0, -10, 5600040, 0, 0, 1]}, 'B01': {'title': 'Band 1 (coastal)', 'type': 'image/tiff; application=geotiff; profile=cloud-optimized', 'href': 'https://sentinel-cogs.s3.us-west-2.amazonaws.com/sentinel-s2-l2a-cogs/30/U/WA/2020/7/S2B_30UWA_20200730_0_L2A/B01.tif', 'proj:shape': [1830, 1830], 'proj:transform': [60, 0, 499980, 0, -60, 5600040, 0, 0, 1]}, 'B02': {'title': 'Band 2 (blue)', 'type': 'image/tiff; application=geotiff; profile=cloud-optimized', 'href': 'https://sentinel-cogs.s3.us-west-2.amazonaws.com/sentinel-s2-l2a-cogs/30/U/WA/2020/7/S2B_30UWA_20200730_0_L2A/B02.tif', 'proj:shape': [10980, 10980], 'proj:transform': [10, 0, 499980, 0, -10, 5600040, 0, 0, 1]}, 'B03': {'title': 'Band 3 (green)', 'type': 'image/tiff; application=geotiff; profile=cloud-optimized', 'href': 'https://sentinel-cogs.s3.us-west-2.amazonaws.com/sentinel-s2-l2a-cogs/30/U/WA/2020/7/S2B_30UWA_20200730_0_L2A/B03.tif', 'proj:shape': [10980, 10980], 'proj:transform': [10, 0, 499980, 0, -10, 5600040, 0, 0, 1]}, 'B04': {'title': 'Band 4 (red)', 'type': 'image/tiff; application=geotiff; profile=cloud-optimized', 'href': 'https://sentinel-cogs.s3.us-west-2.amazonaws.com/sentinel-s2-l2a-cogs/30/U/WA/2020/7/S2B_30UWA_20200730_0_L2A/B04.tif', 'proj:shape': [10980, 10980], 'proj:transform': [10, 0, 499980, 0, -10, 5600040, 0, 0, 1]}, 'B05': {'title': 'Band 5', 'type': 'image/tiff; application=geotiff; profile=cloud-optimized', 'href': 'https://sentinel-cogs.s3.us-west-2.amazonaws.com/sentinel-s2-l2a-cogs/30/U/WA/2020/7/S2B_30UWA_20200730_0_L2A/B05.tif', 'proj:shape': [5490, 5490], 'proj:transform': [20, 0, 499980, 0, -20, 5600040, 0, 0, 1]}, 'B06': {'title': 'Band 6', 'type': 'image/tiff; application=geotiff; profile=cloud-optimized', 'href': 'https://sentinel-cogs.s3.us-west-2.amazonaws.com/sentinel-s2-l2a-cogs/30/U/WA/2020/7/S2B_30UWA_20200730_0_L2A/B06.tif', 'proj:shape': [5490, 5490], 'proj:transform': [20, 0, 499980, 0, -20, 5600040, 0, 0, 1]}, 'B07': {'title': 'Band 7', 'type': 'image/tiff; application=geotiff; profile=cloud-optimized', 'href': 'https://sentinel-cogs.s3.us-west-2.amazonaws.com/sentinel-s2-l2a-cogs/30/U/WA/2020/7/S2B_30UWA_20200730_0_L2A/B07.tif', 'proj:shape': [5490, 5490], 'proj:transform': [20, 0, 499980, 0, -20, 5600040, 0, 0, 1]}, 'B08': {'title': 'Band 8 (nir)', 'type': 'image/tiff; application=geotiff; profile=cloud-optimized', 'href': 'https://sentinel-cogs.s3.us-west-2.amazonaws.com/sentinel-s2-l2a-cogs/30/U/WA/2020/7/S2B_30UWA_20200730_0_L2A/B08.tif', 'proj:shape': [10980, 10980], 'proj:transform': [10, 0, 499980, 0, -10, 5600040, 0, 0, 1]}, 'B8A': {'title': 'Band 8A', 'type': 'image/tiff; application=geotiff; profile=cloud-optimized', 'href': 'https://sentinel-cogs.s3.us-west-2.amazonaws.com/sentinel-s2-l2a-cogs/30/U/WA/2020/7/S2B_30UWA_20200730_0_L2A/B8A.tif', 'proj:shape': [5490, 5490], 'proj:transform': [20, 0, 499980, 0, -20, 5600040, 0, 0, 1]}, 'B09': {'title': 'Band 9', 'type': 'image/tiff; application=geotiff; profile=cloud-optimized', 'href': 'https://sentinel-cogs.s3.us-west-2.amazonaws.com/sentinel-s2-l2a-cogs/30/U/WA/2020/7/S2B_30UWA_20200730_0_L2A/B09.tif', 'proj:shape': [1830, 1830], 'proj:transform': [60, 0, 499980, 0, -60, 5600040, 0, 0, 1]}, 'B11': {'title': 'Band 11 (swir16)', 'type': 'image/tiff; application=geotiff; profile=cloud-optimized', 'href': 'https://sentinel-cogs.s3.us-west-2.amazonaws.com/sentinel-s2-l2a-cogs/30/U/WA/2020/7/S2B_30UWA_20200730_0_L2A/B11.tif', 'proj:shape': [5490, 5490], 'proj:transform': [20, 0, 499980, 0, -20, 5600040, 0, 0, 1]}, 'B12': {'title': 'Band 12 (swir22)', 'type': 'image/tiff; application=geotiff; profile=cloud-optimized', 'href': 'https://sentinel-cogs.s3.us-west-2.amazonaws.com/sentinel-s2-l2a-cogs/30/U/WA/2020/7/S2B_30UWA_20200730_0_L2A/B12.tif', 'proj:shape': [5490, 5490], 'proj:transform': [20, 0, 499980, 0, -20, 5600040, 0, 0, 1]}, 'AOT': {'title': 'Aerosol Optical Thickness (AOT)', 'type': 'image/tiff; application=geotiff; profile=cloud-optimized', 'href': 'https://sentinel-cogs.s3.us-west-2.amazonaws.com/sentinel-s2-l2a-cogs/30/U/WA/2020/7/S2B_30UWA_20200730_0_L2A/AOT.tif', 'proj:shape': [1830, 1830], 'proj:transform': [60, 0, 499980, 0, -60, 5600040, 0, 0, 1]}, 'WVP': {'title': 'Water Vapour (WVP)', 'type': 'image/tiff; application=geotiff; profile=cloud-optimized', 'href': 'https://sentinel-cogs.s3.us-west-2.amazonaws.com/sentinel-s2-l2a-cogs/30/U/WA/2020/7/S2B_30UWA_20200730_0_L2A/WVP.tif', 'proj:shape': [10980, 10980], 'proj:transform': [10, 0, 499980, 0, -10, 5600040, 0, 0, 1]}, 'SCL': {'title': 'Scene Classification Map (SCL)', 'type': 'image/tiff; application=geotiff; profile=cloud-optimized', 'href': 'https://sentinel-cogs.s3.us-west-2.amazonaws.com/sentinel-s2-l2a-cogs/30/U/WA/2020/7/S2B_30UWA_20200730_0_L2A/SCL.tif', 'proj:shape': [5490, 5490], 'proj:transform': [20, 0, 499980, 0, -20, 5600040, 0, 0, 1]}}\n"
     ]
    }
   ],
   "source": [
    "print(items[0].assets)"
   ]
  },
  {
   "cell_type": "code",
   "execution_count": 11,
   "metadata": {},
   "outputs": [
    {
     "name": "stdout",
     "output_type": "stream",
     "text": [
      "{'title': 'Band 4 (red)', 'type': 'image/tiff; application=geotiff; profile=cloud-optimized', 'href': 'https://sentinel-cogs.s3.us-west-2.amazonaws.com/sentinel-s2-l2a-cogs/30/U/WA/2020/7/S2B_30UWA_20200730_0_L2A/B04.tif', 'proj:shape': [10980, 10980], 'proj:transform': [10, 0, 499980, 0, -10, 5600040, 0, 0, 1]}\n"
     ]
    }
   ],
   "source": [
    "print(items[0].asset('red'))"
   ]
  },
  {
   "cell_type": "code",
   "execution_count": 12,
   "metadata": {},
   "outputs": [
    {
     "name": "stdout",
     "output_type": "stream",
     "text": [
      "https://sentinel-cogs.s3.us-west-2.amazonaws.com/sentinel-s2-l2a-cogs/30/U/WA/2020/7/S2B_30UWA_20200730_0_L2A/B04.tif\n"
     ]
    }
   ],
   "source": [
    "print(items[0].asset('red')['href'])\n",
    "file_url = items[0].asset('red')['href']"
   ]
  },
  {
   "cell_type": "code",
   "execution_count": 13,
   "metadata": {},
   "outputs": [
    {
     "name": "stdout",
     "output_type": "stream",
     "text": [
      "{'driver': 'GTiff', 'dtype': 'uint16', 'nodata': 0.0, 'width': 10980, 'height': 10980, 'count': 1, 'crs': CRS.from_epsg(32630), 'transform': Affine(10.0, 0.0, 499980.0,\n",
      "       0.0, -10.0, 5600040.0), 'blockxsize': 1024, 'blockysize': 1024, 'tiled': True, 'compress': 'deflate', 'interleave': 'band'}\n"
     ]
    }
   ],
   "source": [
    "%matplotlib inline\n",
    "import rasterio\n",
    "# Open the COG\n",
    "with rasterio.open(file_url) as src:\n",
    "    print(src.profile)"
   ]
  },
  {
   "cell_type": "markdown",
   "metadata": {},
   "source": [
    "Please see the scripts https://automating-gis-processes.github.io/CSC/notebooks/L5/read-cogs.html for how to plot COGS"
   ]
  },
  {
   "cell_type": "code",
   "execution_count": 14,
   "metadata": {},
   "outputs": [
    {
     "data": {
      "text/plain": [
       "<matplotlib.colorbar.Colorbar at 0x2d7d6732bc8>"
      ]
     },
     "execution_count": 14,
     "metadata": {},
     "output_type": "execute_result"
    },
    {
     "data": {
      "image/png": "[encoded data removed]",
      "text/plain": [
       "<Figure size 432x288 with 2 Axes>"
      ]
     },
     "metadata": {
      "needs_background": "light"
     },
     "output_type": "display_data"
    }
   ],
   "source": [
    "## https://automating-gis-processes.github.io/CSC/notebooks/L5/read-cogs.html\n",
    "%matplotlib inline\n",
    "import rasterio\n",
    "import matplotlib.pyplot as plt\n",
    "with rasterio.open(file_url) as src:\n",
    "    # List of overviews from biggest to smallest\n",
    "    oviews = src.overviews(1)\n",
    "    # Retrieve the smallest thumbnail\n",
    "    oview = oviews[-1]\n",
    "    # NOTE this is using a 'decimated read' (http://rasterio.readthedocs.io/en/latest/topics/resampling.html)\n",
    "    thumbnail = src.read(1, out_shape=(1, int(src.height // oview), int(src.width // oview)))\n",
    "plt.imshow(thumbnail)\n",
    "plt.colorbar()\n"
   ]
  },
  {
   "cell_type": "markdown",
   "metadata": {},
   "source": [
    "For the qgis code please see the script https://github.com/acgeospatial/Satellite_Imagery_Python/blob/master/cloud_native/STAC_QGIS.py "
   ]
  },
  {
   "cell_type": "code",
   "execution_count": null,
   "metadata": {},
   "outputs": [],
   "source": []
  }
 ],
 "metadata": {
  "kernelspec": {
   "display_name": "Python 3",
   "language": "python",
   "name": "python3"
  },
  "language_info": {
   "codemirror_mode": {
    "name": "ipython",
    "version": 3
   },
   "file_extension": ".py",
   "mimetype": "text/x-python",
   "name": "python",
   "nbconvert_exporter": "python",
   "pygments_lexer": "ipython3",
   "version": "3.7.7"
  }
 },
 "nbformat": 4,
 "nbformat_minor": 4
}
