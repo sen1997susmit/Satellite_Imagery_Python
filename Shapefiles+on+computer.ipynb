{
 "cells": [
  {
   "cell_type": "markdown",
   "metadata": {},
   "source": [
    "Can we build a Python program to search for all files on a computer that are shapefiles and return a csv report with basic\n",
    "stats about the shapefile? Yes\n",
    "\n",
    "\n",
    "Loop over a shapefile called 'Shapefile1.shp' in this case and get the number of features and the geometry. "
   ]
  },
  {
   "cell_type": "code",
   "execution_count": null,
   "metadata": {
    "collapsed": false,
    "deletable": true,
    "editable": true
   },
   "outputs": [],
   "source": [
    "from osgeo import ogr\n",
    "\n",
    "# Open the shapefile\n",
    "dataset = ogr.Open('..Shapefile1.shp')\n",
    "print dataset.name\n",
    "\n",
    "## get the layer\n",
    "layer = dataset.GetLayerByIndex()\n",
    "## count the feayures\n",
    "feature_count = layer.GetFeatureCount()\n",
    "## print the count\n",
    "print feature_count\n",
    "## get the geometry - this will be a number so...\n",
    "geometry = layer.GetGeomType()\n",
    "## convert that number to the associated geometry type\n",
    "geometry_name = ogr.GeometryTypeToName(geometry)\n",
    "## print the geometry type\n",
    "print geometry_name \n"
   ]
  },
  {
   "cell_type": "markdown",
   "metadata": {},
   "source": [
    "Search D: drive for all shapefiles and append to list"
   ]
  },
  {
   "cell_type": "code",
   "execution_count": null,
   "metadata": {
    "collapsed": false,
    "deletable": true,
    "editable": true
   },
   "outputs": [],
   "source": [
    "import os\n",
    "count = 0\n",
    "lsshape = []\n",
    "for root, dirs, files in os.walk(\"D:/\"):\n",
    "    for file in files:\n",
    "        if file.endswith(\".shp\"):\n",
    "            shapefile = (os.path.join(root, file))\n",
    "            lsshape.append(shapefile)\n",
    "            \n",
    "            count +=1\n",
    "print count\n"
   ]
  },
  {
   "cell_type": "markdown",
   "metadata": {},
   "source": [
    "Convert first piece of code to a function that we can call later"
   ]
  },
  {
   "cell_type": "code",
   "execution_count": null,
   "metadata": {
    "collapsed": false,
    "deletable": true,
    "editable": true
   },
   "outputs": [],
   "source": [
    "def infoShp(path):\n",
    "\n",
    "    # Open the shapefile\n",
    "    dataset = ogr.Open(path)\n",
    "\n",
    "    ## get the layer\n",
    "    layer = dataset.GetLayerByIndex()\n",
    "    ## count the feayures\n",
    "    feature_count = layer.GetFeatureCount()\n",
    "    ## print the count\n",
    "    #print feature_count\n",
    "    ## get the geometry - this will be a number so...\n",
    "    geometry = layer.GetGeomType()\n",
    "    ## convert that number to the associated geometry type\n",
    "    geometry_name = ogr.GeometryTypeToName(geometry)\n",
    "    ## print the geometry type\n",
    "    #print geometry_name \n",
    " \n",
    "    return dataset.name, geometry_name, feature_count\n",
    "\n",
    "\n"
   ]
  },
  {
   "cell_type": "markdown",
   "metadata": {},
   "source": [
    "Build a pandas dataframe by looping over the list of shapefiles and extracting information"
   ]
  },
  {
   "cell_type": "code",
   "execution_count": null,
   "metadata": {
    "collapsed": false,
    "deletable": true,
    "editable": true
   },
   "outputs": [],
   "source": [
    "import pandas as pd\n",
    "df = pd.DataFrame(columns=['File', 'Geometry', 'features'])\n",
    "for i in range(0, len(lsshape)):\n",
    "    name,geoName, featcount = (infoShp(lsshape[i]))\n",
    "    df.loc[i] = name,geoName,featcount\n",
    "    \n",
    "print df.head()\n",
    "\n",
    "\n"
   ]
  },
  {
   "cell_type": "markdown",
   "metadata": {},
   "source": [
    "Write out to csv. index=False means we will not write out the index as a field in the csv."
   ]
  },
  {
   "cell_type": "code",
   "execution_count": null,
   "metadata": {
    "collapsed": false,
    "deletable": true,
    "editable": true
   },
   "outputs": [],
   "source": [
    "df.to_csv('.../out_shp.csv', encoding='utf-8', index=False)"
   ]
  }
 ],
 "metadata": {
  "kernelspec": {
   "display_name": "Python 2",
   "language": "python",
   "name": "python2"
  },
  "language_info": {
   "codemirror_mode": {
    "name": "ipython",
    "version": 2
   },
   "file_extension": ".py",
   "mimetype": "text/x-python",
   "name": "python",
   "nbconvert_exporter": "python",
   "pygments_lexer": "ipython2",
   "version": "2.7.10"
  }
 },
 "nbformat": 4,
 "nbformat_minor": 2
}
